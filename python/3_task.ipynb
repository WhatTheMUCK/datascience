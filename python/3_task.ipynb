{
  "metadata": {
    "language_info": {
      "codemirror_mode": {
        "name": "python",
        "version": 3
      },
      "file_extension": ".py",
      "mimetype": "text/x-python",
      "name": "python",
      "nbconvert_exporter": "python",
      "pygments_lexer": "ipython3",
      "version": "3.8"
    },
    "kernelspec": {
      "name": "python",
      "display_name": "Python (Pyodide)",
      "language": "python"
    }
  },
  "nbformat_minor": 4,
  "nbformat": 4,
  "cells": [
    {
      "cell_type": "markdown",
      "source": "Самостоятельное задание #3\nЗадание 1\nДопишите функцию, которая принимает массив из 10 чисел и возвращает их сумму.",
      "metadata": {}
    },
    {
      "cell_type": "code",
      "source": "def sum_10(array):\n    s = 0;\n    for x in array:\n        s += x;\n    return s;",
      "metadata": {
        "trusted": true
      },
      "execution_count": null,
      "outputs": []
    },
    {
      "cell_type": "markdown",
      "source": "Задание 2\nДопишите функцию, которая принимает массив чисел и возвращает количество чисел равных нулю.",
      "metadata": {}
    },
    {
      "cell_type": "code",
      "source": "def zerocounter(array):\n    c = 0;\n    for x in array:\n        if (x == 0):\n            c += 1;\n    return c;",
      "metadata": {
        "trusted": true
      },
      "execution_count": null,
      "outputs": []
    },
    {
      "cell_type": "markdown",
      "source": "Задание 3\nНапишите программу, в которой задается натуральное число n и выводится лестница из n ступенек, i-я ступенька должна состоять из чисел от 1 до i без пробелов.",
      "metadata": {}
    },
    {
      "cell_type": "code",
      "source": "# n = int(input()) у меня JupyterNotebook не смог с этим работать((((\nn = 5;\ni = 1;\nwhile (i <= n):\n    for k in range(1, i+1):\n        print(k, end='');\n    print();\n    i += 1;",
      "metadata": {
        "trusted": true
      },
      "execution_count": 3,
      "outputs": [
        {
          "name": "stdout",
          "text": "1\n12\n123\n1234\n12345\n",
          "output_type": "stream"
        }
      ]
    },
    {
      "cell_type": "markdown",
      "source": "Задание 4\nНапишите программу, в которой задается натуральное число n и выводится пирамида из n ступенек, i-я ступень должна состоять из чисел от 1 до i и обратно без пробелов.",
      "metadata": {}
    },
    {
      "cell_type": "code",
      "source": "# n = int(input())\nn = 7;\ni = 1;\nx = n-1;\nwhile i <= n:\n    print(' '*x, end='')\n    for k in range (1, i+1):\n        print(k, end='')\n    for z in range (i-1, 0, -1):\n        print(z, end='')\n    print();\n    i += 1;\n    x -= 1;",
      "metadata": {
        "trusted": true
      },
      "execution_count": 6,
      "outputs": [
        {
          "name": "stdout",
          "text": "      1\n     121\n    12321\n   1234321\n  123454321\n 12345654321\n1234567654321\n",
          "output_type": "stream"
        }
      ]
    },
    {
      "cell_type": "markdown",
      "source": "Напишите программу, в которой задается натуральное число n и выводится ромб из n*2-1 ступенек, i-я ступень должна состоять из чисел от 1 до i и обратно без пробелов.",
      "metadata": {}
    },
    {
      "cell_type": "code",
      "source": "# n = int(input())\nn = 6;\ni = 1;\nx = n-1;\nwhile i <= n:\n    print(' '*x, end='')\n    for k in range (1, i+1):\n        print(k, end='')\n    for z in range (i-1, 0, -1):\n        print(z, end='')\n    print();\n    i += 1;\n    x -= 1;\nx = 1;\ni -= 2;\nwhile i > 0:\n    print(' '*x, end='')\n    for k in range (1, i+1):\n        print(k, end='')\n    for z in range (i-1, 0, -1):\n        print(z, end='')\n    print();\n    i -= 1;\n    x += 1;",
      "metadata": {
        "trusted": true
      },
      "execution_count": 9,
      "outputs": [
        {
          "name": "stdout",
          "text": "     1\n    121\n   12321\n  1234321\n 123454321\n12345654321\n 123454321\n  1234321\n   12321\n    121\n     1\n",
          "output_type": "stream"
        }
      ]
    },
    {
      "cell_type": "code",
      "source": "",
      "metadata": {},
      "execution_count": null,
      "outputs": []
    }
  ]
}