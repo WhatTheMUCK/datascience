{
  "metadata": {
    "language_info": {
      "codemirror_mode": {
        "name": "python",
        "version": 3
      },
      "file_extension": ".py",
      "mimetype": "text/x-python",
      "name": "python",
      "nbconvert_exporter": "python",
      "pygments_lexer": "ipython3",
      "version": "3.8"
    },
    "kernelspec": {
      "name": "python",
      "display_name": "Python (Pyodide)",
      "language": "python"
    }
  },
  "nbformat_minor": 4,
  "nbformat": 4,
  "cells": [
    {
      "cell_type": "markdown",
      "source": "Самостоятельное задание #5\nЗадание 1\nДопишите функцию, которая принимает список, выбирает из него все элементы с четным индексом и возвращает их в виде списка.",
      "metadata": {}
    },
    {
      "cell_type": "code",
      "source": "def even_indixes(lst):\n    answer = []\n    for i in range(0, len(lst), 2):\n        answer.append(lst[i])\n    return answer",
      "metadata": {
        "trusted": true
      },
      "execution_count": 6,
      "outputs": []
    },
    {
      "cell_type": "markdown",
      "source": "Задание 2\nДопишите функцию, которая принимает список, выбирает из него все элементы, которые больше предыдущего и возвращает их в виде списка.",
      "metadata": {}
    },
    {
      "cell_type": "code",
      "source": "def bigger_then_prev(lst):\n    answer = []\n    small = lst[0]-1;\n    for i in range(0, len(lst)):\n        if lst[i] > small:\n            answer.append(lst[i])\n        small=lst[i]\n    return answer",
      "metadata": {
        "trusted": true
      },
      "execution_count": 7,
      "outputs": []
    },
    {
      "cell_type": "markdown",
      "source": "Задание 3\nДопишите функцию, которая принимает список, меняет местами наибольший и наименьший элементы и возвращает этот список.",
      "metadata": {}
    },
    {
      "cell_type": "code",
      "source": "def swap_min_and_max(lst):\n    answer = []\n    a = 0\n    b = 0\n    minimum=lst[0]\n    maximum=lst[0]\n    for i in range(0, len(lst)):\n        if lst[i] < minimum:\n            a = i\n            minimum = lst[i]\n        if lst[i] > maximum:\n            b = i\n            maximum = lst[i]\n        answer.append(lst[i])\n    answer[a] = maximum\n    answer[b] = minimum\n    return answer",
      "metadata": {
        "trusted": true
      },
      "execution_count": 8,
      "outputs": []
    },
    {
      "cell_type": "code",
      "source": "",
      "metadata": {},
      "execution_count": null,
      "outputs": []
    }
  ]
}