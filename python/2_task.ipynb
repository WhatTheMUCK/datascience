{
  "metadata": {
    "language_info": {
      "codemirror_mode": {
        "name": "python",
        "version": 3
      },
      "file_extension": ".py",
      "mimetype": "text/x-python",
      "name": "python",
      "nbconvert_exporter": "python",
      "pygments_lexer": "ipython3",
      "version": "3.8"
    },
    "kernelspec": {
      "name": "python",
      "display_name": "Python (Pyodide)",
      "language": "python"
    }
  },
  "nbformat_minor": 4,
  "nbformat": 4,
  "cells": [
    {
      "cell_type": "markdown",
      "source": "Самостоятельная работа #2\n Задание 1\n Допишите функцию, которая принимает 2 числа, сравнивает между собой и возвращает наименьшее.",
      "metadata": {}
    },
    {
      "cell_type": "code",
      "source": "def minimum(a, b):\n    if a < b :\n        return a\n    else:\n        return b",
      "metadata": {},
      "execution_count": null,
      "outputs": []
    },
    {
      "cell_type": "markdown",
      "source": "Задание 2\nДопишите функцию, которая принимает 3 числа, сравнивает между собой и возвращает наименьшее.",
      "metadata": {}
    },
    {
      "cell_type": "code",
      "source": "def minimum(a, b, c):\n    if (a <= b) and (a <= c):\n        return a;\n    elif (b < =a) and (b <= c):\n        return b;\n    else:\n        return c;\n        ",
      "metadata": {},
      "execution_count": null,
      "outputs": []
    },
    {
      "cell_type": "markdown",
      "source": "Задание 2\nДопишите функцию, которая принимает 3 числа, сравнивает между собой и возвращает количество совпадающих чисел. Соответственно, программа может возвращать одно из трех чисел: 3 - если совпадают все, 2 - если совпадают 2 числа, 0 - если все числа различны.",
      "metadata": {}
    },
    {
      "cell_type": "code",
      "source": "def equalcounter(a, b ,c):\n    if (a == b) and (a == c):\n        return 3;\n    elif (a == b) or (a == c) or (b == c):\n        return 2;\n    else:\n        return 0;",
      "metadata": {
        "trusted": true
      },
      "execution_count": 4,
      "outputs": []
    }
  ]
}
